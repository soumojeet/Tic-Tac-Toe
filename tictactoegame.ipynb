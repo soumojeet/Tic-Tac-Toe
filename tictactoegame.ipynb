{
 "cells": [
  {
   "cell_type": "code",
   "execution_count": 1,
   "id": "8dc7fc0d",
   "metadata": {},
   "outputs": [],
   "source": [
    "def user_input():\n",
    "    flag = True\n",
    "    game_dict={'1':[0,0],'2':[0,1],'3':[0,2],'4':[1,0],'5':[1,1],'6':[1,2],'7':[2,0],'8':[2,1],'9':[2,2]}\n",
    "    while flag:\n",
    "        choice= input('Enter a value between (1-9): ')\n",
    "              \n",
    "        if choice.isdigit():    \n",
    "            if int(choice) in range(0,10):\n",
    "                flag=False\n",
    "            else:\n",
    "                print('Enter within range')\n",
    "        else:\n",
    "            print('Enter Digit')\n",
    "            \n",
    "    return game_dict[choice]\n",
    "\n",
    "def user_display(block):\n",
    "    print('Game Instruction:\\n1->[0][0] 2->[0][1] 3->[0][2]\\n4->[1][0] 5->[1][1] 6->[1][2]\\n7->[2][0] 8->[2][1] 9->[2][2]\\n')\n",
    "    for x in block:\n",
    "        print(x)"
   ]
  },
  {
   "cell_type": "code",
   "execution_count": 2,
   "id": "a167938e",
   "metadata": {},
   "outputs": [],
   "source": [
    "from IPython.display import clear_output\n",
    "\n",
    "def tic_tac_toe():\n",
    "    row= [[' ',' ',' '],[' ',' ',' '],[' ',' ',' ']]\n",
    "    \n",
    "    user_display(row)\n",
    "    switch_flag=True\n",
    "    \n",
    "    while check(row)==1: \n",
    "        if switch_flag:\n",
    "            print('Enter for X')\n",
    "            row_input,column_input = user_input()\n",
    "            if row[row_input][column_input] == ' ':\n",
    "                row[row_input][column_input] = 'X'\n",
    "            else:\n",
    "                print('Already Equipped')\n",
    "                continue\n",
    "        else:\n",
    "            print('Enter for O')\n",
    "            row_input,column_input = user_input()\n",
    "            if row[row_input][column_input] == ' ':\n",
    "                row[row_input][column_input] = 'O'\n",
    "            else:\n",
    "                print('Already Equipped')\n",
    "                continue\n",
    "            \n",
    "        switch_flag=not switch_flag\n",
    "        \n",
    "        clear_output(True)\n",
    "        \n",
    "        user_display(row)\n",
    "    else:\n",
    "        if switch_flag == True and check(row)!=2:\n",
    "            print('Game Over\\nPlayer O WON')\n",
    "        elif switch_flag == False and check(row)!=2:\n",
    "            print('Game Over\\nPlayer X WON')\n",
    "        else: \n",
    "            print('Game Over\\nDRAW')"
   ]
  },
  {
   "cell_type": "code",
   "execution_count": 3,
   "id": "a3faec13",
   "metadata": {},
   "outputs": [],
   "source": [
    "def check(block):\n",
    "    for y in [0,1,2]:\n",
    "        if block[y][0]==block[y][1]==block[y][2]!=' ' or block[0][y]==block[1][y]==block[2][y]!=' ':\n",
    "            return 0\n",
    "        elif block[0][0]==block[1][1]==block[2][2]!=' ' or block[2][0]==block[1][1]==block[0][2]!=' ':\n",
    "            return 0\n",
    "        elif block[0][0]!=' ' and block[0][1]!=' ' and block[0][2]!=' ' and block[1][0]!=' ' and block[1][1]!=' ' and block[1][2]!=' ' and block[2][0]!=' ' and block[2][1]!=' ' and block[2][2]!=' ':\n",
    "            return 2\n",
    "    return 1\n"
   ]
  },
  {
   "cell_type": "code",
   "execution_count": 4,
   "id": "0c682aba",
   "metadata": {},
   "outputs": [
    {
     "name": "stdout",
     "output_type": "stream",
     "text": [
      "Game Instruction:\n",
      "1->[0][0] 2->[0][1] 3->[0][2]\n",
      "4->[1][0] 5->[1][1] 6->[1][2]\n",
      "7->[2][0] 8->[2][1] 9->[2][2]\n",
      "\n",
      "['X', ' ', 'O']\n",
      "[' ', 'X', 'O']\n",
      "[' ', ' ', 'X']\n",
      "Game Over\n",
      "Player X WON\n"
     ]
    }
   ],
   "source": [
    "tic_tac_toe()"
   ]
  },
  {
   "cell_type": "code",
   "execution_count": null,
   "id": "71dd456b",
   "metadata": {},
   "outputs": [
    {
     "name": "stdout",
     "output_type": "stream",
     "text": [
      "Game Instruction:\n",
      "1->[0][0] 2->[0][1] 3->[0][2]\n",
      "4->[1][0] 5->[1][1] 6->[1][2]\n",
      "7->[2][0] 8->[2][1] 9->[2][2]\n",
      "\n",
      "[' ', ' ', ' ']\n",
      "[' ', ' ', ' ']\n",
      "[' ', ' ', ' ']\n",
      "Enter for X\n"
     ]
    }
   ],
   "source": [
    "tic_tac_toe()"
   ]
  },
  {
   "cell_type": "code",
   "execution_count": null,
   "id": "5a050076",
   "metadata": {},
   "outputs": [],
   "source": [
    "tic_tac_toe()"
   ]
  },
  {
   "cell_type": "code",
   "execution_count": null,
   "id": "e583b004",
   "metadata": {},
   "outputs": [],
   "source": [
    "tic_tac_toe()"
   ]
  },
  {
   "cell_type": "code",
   "execution_count": null,
   "id": "e78c3ad0",
   "metadata": {},
   "outputs": [],
   "source": [
    "tic_tac_toe()"
   ]
  },
  {
   "cell_type": "code",
   "execution_count": null,
   "id": "6b7d5f13",
   "metadata": {},
   "outputs": [],
   "source": [
    "tic_tac_toe()"
   ]
  },
  {
   "cell_type": "code",
   "execution_count": null,
   "id": "61efb738",
   "metadata": {},
   "outputs": [],
   "source": []
  }
 ],
 "metadata": {
  "kernelspec": {
   "display_name": "Python 3 (ipykernel)",
   "language": "python",
   "name": "python3"
  },
  "language_info": {
   "codemirror_mode": {
    "name": "ipython",
    "version": 3
   },
   "file_extension": ".py",
   "mimetype": "text/x-python",
   "name": "python",
   "nbconvert_exporter": "python",
   "pygments_lexer": "ipython3",
   "version": "3.9.7"
  }
 },
 "nbformat": 4,
 "nbformat_minor": 5
}
